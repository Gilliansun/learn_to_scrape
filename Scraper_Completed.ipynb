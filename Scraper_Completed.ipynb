{
 "cells": [
  {
   "cell_type": "markdown",
   "metadata": {},
   "source": [
    "# Web Scraping with Python"
   ]
  },
  {
   "cell_type": "markdown",
   "metadata": {},
   "source": [
    "MIT Political Science Methods Series  \n",
    "Spring 2018  \n",
    "Andy Halterman"
   ]
  },
  {
   "cell_type": "markdown",
   "metadata": {},
   "source": [
    "## Overview\n",
    "\n",
    "Most news sites and similar web pages can be scraped through a three step process:\n",
    "\n",
    "1. given a link to an article, extracting and formatting all the needed info from the page\n",
    "2. given an archive-type page of links, finding all the links on the page.\n",
    "3. iterating through each page of archives, scraping all the pages from it, and saving to disk\n",
    "\n",
    "We'll write one function for each."
   ]
  },
  {
   "cell_type": "markdown",
   "metadata": {
    "collapsed": true
   },
   "source": [
    "## Libraries and setup"
   ]
  },
  {
   "cell_type": "code",
   "execution_count": null,
   "metadata": {
    "collapsed": true
   },
   "outputs": [],
   "source": [
    "# requests is for general HTTP loading\n",
    "import requests\n",
    "# BeautifulSoup is an HTML parser\n",
    "from bs4 import BeautifulSoup\n",
    "# JSON is a nice format for writing out\n",
    "# ujson can handle datetimes better and is a\n",
    "# drop in replacement for the json module\n",
    "import json"
   ]
  },
  {
   "cell_type": "code",
   "execution_count": null,
   "metadata": {
    "collapsed": true
   },
   "outputs": [],
   "source": [
    "# Sometimes you'll need the regular expressions library and a date library\n",
    "import re\n",
    "import dateutil.parser"
   ]
  },
  {
   "cell_type": "code",
   "execution_count": 109,
   "metadata": {
    "collapsed": true
   },
   "outputs": [],
   "source": [
    "from __future__ import print_function"
   ]
  },
  {
   "cell_type": "markdown",
   "metadata": {},
   "source": [
    "## Page scraper"
   ]
  },
  {
   "cell_type": "markdown",
   "metadata": {},
   "source": [
    "We'll write a function here that takes in the URL of an article or page, extracts the information we want from HTML, and structures the output.\n",
    "\n",
    "Python things to learn:\n",
    "\n",
    "- calling methods from objects\n",
    "- what a dictionary is\n",
    "- defining a function\n",
    "\n",
    "HTML things to learn: \n",
    "\n",
    "- Chrome inspector\n",
    "- what HTML tags look like"
   ]
  },
  {
   "cell_type": "code",
   "execution_count": 121,
   "metadata": {
    "collapsed": true
   },
   "outputs": [],
   "source": [
    "# find the URL of an article to scrape\n",
    "url = \"https://reliefweb.int/report/afghanistan/more-200-displaced-families-receive-cash-assistance-laghman-province\""
   ]
  },
  {
   "cell_type": "code",
   "execution_count": 122,
   "metadata": {},
   "outputs": [],
   "source": [
    "# download article page and get content\n",
    "page = requests.get(url)\n",
    "content = page.content"
   ]
  },
  {
   "cell_type": "code",
   "execution_count": 123,
   "metadata": {},
   "outputs": [
    {
     "data": {
      "text/plain": [
       "<!DOCTYPE html>\n",
       "<html dir=\"ltr\" lang=\"en\" prefix=\"fb: http://ogp.me/ns/fb# og: http://ogp.me/ns# article: http://ogp.me/ns/article#\">\n",
       "<head>\n",
       "<meta content=\"text/html; charset=utf-8\" http-equiv=\"Content-Type\"/>\n",
       "<link href=\"/profiles/reliefweb/themes/kobe/images/apple-touch-icon.png\" rel=\"apple-touch-icon\"/>\n",
       "<link href=\"/profiles/reliefweb/themes/kobe/images/favicon.png\" rel=\"icon\"/>\n",
       "<!--[if IE]><link rel=\"shortcut icon\" href=\"/profiles/reliefweb/themes/kobe/favicon.ico\"><![endif]-->\n",
       "<link href=\"https://reliefweb.int/profiles/reliefweb/themes/kobe/favicon.ico\" rel=\"shortcut icon\" type=\"image/vnd.microsoft.icon\"/>\n",
       "<meta content=\"News and Press Release from Government of Afghanistan, published 08 Jan 2018\" name=\"description\"/>\n",
       "<meta content=\"Afghanistan, , , Government of Afghanistan, News and Press Release, Shelter and Non-Food Items, English, humanitarian, IDPs\" name=\"keywords\"/>\n",
       "<meta content=\"Afghanistan, , , Government of Afghanistan, News and Press Release, Shelter and Non-Food Items, English, humanitarian, IDPs\" name=\"news_keywords\"/>\n",
       "<link href=\"https://reliefweb.int/report/afghanistan/more-200-displaced-families-receive-cash-assistance-laghman-province\" rel=\"canonical\"/>\n",
       "<link href=\"https://reliefweb.int/node/2404849\" rel=\"shortlink\"/>\n",
       "<meta content=\"http://morr.gov.af/en/news/70008\" name=\"original-source\"/>\n",
       "<meta content=\"1916193535375038\" property=\"fb:app_id\"/>\n",
       "<meta content=\"ReliefWeb\" property=\"og:site_name\"/>\n",
       "<meta content=\"article\" property=\"og:type\"/>\n",
       "<meta content=\"https://reliefweb.int/report/afghanistan/more-200-displaced-families-receive-cash-assistance-laghman-province\" property=\"og:url\"/>\n",
       "<meta content=\"More than 200 Displaced families Receive Cash Assistance in Laghman Province\" property=\"og:title\"/>\n",
       "<meta content=\"News and Press Release from Government of Afghanistan, published 08 Jan 2018\" property=\"og:description\"/>\n",
       "<meta content=\"summary\" name=\"twitter:card\"/>\n",
       "<meta content=\"@reliefweb\" name=\"twitter:site\"/>\n",
       "<title>More than 200 Displaced families Receive Cash Assistance in Laghman Province - Afghanistan | ReliefWeb</title>\n",
       "<link href=\"https://reliefweb.int/sites/reliefweb.int/files/css/css_pZ0_Pb__oDuNeqvCF6qYhf0jzCWsmVNwbLqrmnffLp0.css\" media=\"all\" rel=\"stylesheet\" type=\"text/css\"/>\n",
       "<link href=\"https://reliefweb.int/sites/reliefweb.int/files/css/css_MnXiytJtb186Ydycnpwpw34cuUsHaKc80ey5LiQXhSY.css\" media=\"all\" rel=\"stylesheet\" type=\"text/css\"/>\n",
       "<!--[if gte IE 7]>\n",
       "<link type=\"text/css\" rel=\"stylesheet\" href=\"https://reliefweb.int/profiles/reliefweb/themes/kobe/style-ie.css?p4mat0\" media=\"all\" />\n",
       "<![endif]-->\n",
       "<!--[if IE 7]>\n",
       "<link type=\"text/css\" rel=\"stylesheet\" href=\"https://reliefweb.int/profiles/reliefweb/themes/kobe/style-ie7.css?p4mat0\" media=\"all\" />\n",
       "<![endif]-->\n",
       "<link href=\"https://reliefweb.int/sites/reliefweb.int/files/css/css_quW47FRmfqvjanHOMKuGByzNkMTB8GEeRnQVveDnHK8.css\" media=\"all\" rel=\"stylesheet\" type=\"text/css\"/>\n",
       "<link href=\"https://reliefweb.int/sites/reliefweb.int/files/css/css_q-blQ2AO8QsQZfIXkNqgca-5kL3PXNZpxkQgoeqbSqs.css\" media=\"screen\" rel=\"stylesheet\" type=\"text/css\"/>\n",
       "<link href=\"https://reliefweb.int/sites/reliefweb.int/files/css/css_iaAfVjuMtAcMY6MOPWDvnn4kuuxWhYeXZRsWD5_o4tU.css\" media=\"print\" rel=\"stylesheet\" type=\"text/css\"/>\n",
       "<link href=\"https://reliefweb.int/profiles/reliefweb/modules/features/reliefweb_moderation/css/moderation.css?p4mat0\" media=\"all\" rel=\"stylesheet\" type=\"text/css\"/>\n",
       "<script src=\"https://reliefweb.int/sites/reliefweb.int/files/js/js_XrqcpvvPhg0WxVkbSMOMsfvZl-yiEUTtzvWuj4xvZpI.js\" type=\"text/javascript\"></script>\n",
       "<script src=\"https://reliefweb.int/sites/reliefweb.int/files/js/js_tm1gahPj5RurExr4Zj4GdGvvL7W4-u6_XRVeEsXyp3Q.js\" type=\"text/javascript\"></script>\n",
       "<script src=\"https://reliefweb.int/sites/reliefweb.int/files/js/js_IfMCH1o4K_O4ro0fwYHrd8Ci49uja6uXyqZ6ejkc3gs.js\" type=\"text/javascript\"></script>\n",
       "<script type=\"text/javascript\">\n",
       "<!--//--><![CDATA[//><!--\n",
       "(function(i,s,o,g,r,a,m){i[\"GoogleAnalyticsObject\"]=r;i[r]=i[r]||function(){(i[r].q=i[r].q||[]).push(arguments)},i[r].l=1*new Date();a=s.createElement(o),m=s.getElementsByTagName(o)[0];a.async=1;a.src=g;m.parentNode.insertBefore(a,m)})(window,document,\"script\",\"//www.google-analytics.com/analytics.js\",\"ga\");ga(\"create\", \"UA-105760-1\", {\"cookieDomain\":\"auto\"});ga(\"require\", \"linkid\", \"linkid.js\");ga(\"require\", \"displayfeatures\");ga(\"set\", \"dimension1\", \"Report\");ga(\"set\", \"dimension2\", \"News and Press Release\");ga(\"set\", \"dimension4\", \"English\");ga(\"set\", \"dimension5\", \"Afghanistan\");ga(\"set\", \"dimension6\", \"Afghanistan\");ga(\"set\", \"dimension7\", \"Government of Afghanistan\");ga(\"set\", \"dimension8\", \"Shelter and Non-Food Items\");ga(\"set\", \"dimension11\", \"IDPs\");ga(\"set\", \"dimension12\", \"anonymous user\");ga(\"set\", \"dimension13\", \"2018-01-08\");ga(\"set\", \"dimension20\", \"Published\");ga(\"send\", \"pageview\");\n",
       "//--><!]]>\n",
       "</script>\n",
       "<script src=\"https://reliefweb.int/sites/reliefweb.int/files/js/js_55eTDjdhBe9wtQZGhLdkOmjD40J90OJGljYUAVfA3KQ.js\" type=\"text/javascript\"></script>\n",
       "<script type=\"text/javascript\">\n",
       "<!--//--><![CDATA[//><!--\n",
       "jQuery.extend(Drupal.settings, {\"basePath\":\"\\/\",\"pathPrefix\":\"\",\"ajaxPageState\":{\"theme\":\"kobe\",\"theme_token\":\"oPz1Jod5DorbMOGVQiVJsURw-hX8hC8p52BSmyJ8Mvs\",\"js\":{\"public:\\/\\/google_tag\\/google_tag.script.js\":1,\"misc\\/jquery.js\":1,\"misc\\/jquery.once.js\":1,\"misc\\/drupal.js\":1,\"misc\\/ajax.js\":1,\"0\":1,\"sites\\/all\\/themes\\/rubik\\/js\\/rubik.js\":1,\"profiles\\/reliefweb\\/themes\\/kobe\\/js\\/kobe.js\":1},\"css\":{\"sites\\/all\\/modules\\/date\\/date_api\\/date.css\":1,\"modules\\/field\\/theme\\/field.css\":1,\"sites\\/all\\/modules\\/logintoboggan\\/logintoboggan.css\":1,\"sites\\/all\\/modules\\/views\\/css\\/views.css\":1,\"sites\\/all\\/modules\\/ctools\\/css\\/ctools.css\":1,\"profiles\\/reliefweb\\/themes\\/kobe\\/style-ie.css\":1,\"profiles\\/reliefweb\\/themes\\/kobe\\/style-ie7.css\":1,\"sites\\/all\\/themes\\/tao\\/reset.css\":1,\"sites\\/all\\/themes\\/tao\\/base.css\":1,\"sites\\/all\\/themes\\/tao\\/drupal.css\":1,\"sites\\/all\\/themes\\/rubik\\/core.css\":1,\"sites\\/all\\/themes\\/rubik\\/icons.css\":1,\"profiles\\/reliefweb\\/themes\\/kobe\\/style.css\":1,\"profiles\\/reliefweb\\/themes\\/kobe\\/fonts\\/rw-icomoon\\/rw-icomoon-style.css\":1,\"profiles\\/reliefweb\\/themes\\/kobe\\/style-print.css\":1,\"profiles\\/reliefweb\\/modules\\/features\\/reliefweb_moderation\\/css\\/moderation.css\":1}},\"jcarousel\":{\"ajaxPath\":\"\\/jcarousel\\/ajax\\/views\"}});\n",
       "//--><!]]>\n",
       "</script>\n",
       "</head>\n",
       "<body class=\"html not-front not-logged-in one-sidebar sidebar-first page-node page-node- page-node-2404849 node-type-report tao rubik layout-default\">\n",
       "<div id=\"skip-link\">\n",
       "<a class=\"element-invisible element-focusable\" href=\"#main-content\">Skip to main content</a>\n",
       "</div>\n",
       "<div class=\"region region-page-top\">\n",
       "<noscript><iframe height=\"0\" src=\"https://www.googletagmanager.com/ns.html?id=GTM-W735ZR\" style=\"display:none;visibility:hidden\" width=\"0\"></iframe></noscript> </div>\n",
       "<!-- Header -->\n",
       "<div class=\"header\">\n",
       "<div class=\"content\">\n",
       "<!-- Tab links -->\n",
       "<div class=\"navigation-global\">\n",
       "<ul>\n",
       "<li class=\"active\"><a class=\"rw\" href=\"/\"></a></li>\n",
       "<li><a class=\"labs\" href=\"http://labs.reliefweb.int\">Labs</a></li>\n",
       "<li class=\"\"><a class=\"blog\" href=\"/blog\">Blog</a></li>\n",
       "<li><a class=\"mobile\" href=\"https://m.reliefweb.int/report/2404849\">Mobile</a></li>\n",
       "</ul>\n",
       "</div>\n",
       "<!-- Social icons -->\n",
       "<div class=\"social-media-icons\">\n",
       "<a href=\"https://www.facebook.com/reliefweb\" title=\"ReliefWeb Facebook\"><svg height=\"100\" viewbox=\"0 0 32 32\" width=\"100\" xmlns=\"http://www.w3.org/2000/svg\"><path d=\"M19.47 16.57l-2.25 0 0 8.03 -3.33 0 0-8.02 -1.59 0 0-2.83 1.59 0 0-1.84c0-1.31 0.62-3.37 3.37-3.37l2.47 0.01 0 2.75 -1.79 0c-0.29 0-0.71 0.15-0.71 0.77l0 1.67 2.54 0 -0.29 2.84Z\"></path></svg></a>\n",
       "<a href=\"https://twitter.com/reliefweb\" title=\"ReliefWeb Twitter\"><svg height=\"100\" viewbox=\"0 0 32 32\" width=\"100\" xmlns=\"http://www.w3.org/2000/svg\"><path d=\"M22.44 11.57c-0.52 0.32-1.09 0.55-1.71 0.67 -0.49-0.53-1.19-0.87-1.96-0.87 -1.48 0-2.69 1.23-2.69 2.76 0 0.22 0.02 0.43 0.07 0.63 -2.23-0.11-4.21-1.21-5.54-2.88 -0.23 0.41-0.36 0.88-0.36 1.39 0 0.96 0.48 1.8 1.2 2.29 -0.44-0.01-0.85-0.14-1.22-0.34l0 0.03c0 1.34 0.93 2.45 2.16 2.7 -0.22 0.07-0.46 0.1-0.71 0.1 -0.17 0-0.34-0.02-0.51-0.05 0.34 1.1 1.33 1.89 2.51 1.91 -0.92 0.74-2.08 1.18-3.34 1.18 -0.22 0-0.43-0.01-0.64-0.04 1.19 0.78 2.6 1.24 4.12 1.24 4.95 0 7.65-4.2 7.65-7.84 0-0.12 0-0.24-0.01-0.36 0.53-0.39 0.98-0.87 1.34-1.43 -0.48 0.22-1 0.37-1.54 0.43 0.56-0.34 0.98-0.88 1.18-1.52\"></path></svg></a>\n",
       "<a href=\"https://www.linkedin.com/company/reliefweb\" title=\"ReliefWeb LinkedIn\"><svg height=\"100\" viewbox=\"0 0 32 32\" width=\"100\" xmlns=\"http://www.w3.org/2000/svg\"><path d=\"M16.68 14.03l0 1.17c0.15-0.51 0.97-1.25 2.28-1.25 1.62 0 2.9 1.08 2.9 3.39l0 4.16 -2.59 0 0-3.87c0-1.01-0.41-1.7-1.3-1.7 -0.68 0-1.06 0.47-1.24 0.92 -0.07 0.16-0.05 0.39-0.05 0.61l0 4.05 -2.57 0c0 0 0.03-6.85 0-7.48l2.57 0ZM10.43 14.03l2.29 0 0 7.48 -2.29 0 0-7.48ZM11.53 10.5c-0.84 0-1.4 0.56-1.4 1.3 0 0.73 0.54 1.3 1.36 1.3l0.02 0c0.86 0 1.39-0.57 1.39-1.3 -0.02-0.74-0.53-1.3-1.38-1.3Z\"></path></svg></a>\n",
       "<a href=\"https://www.youtube.com/channel/UC4RQutFVU_1OSNtOzGyBfGw\" title=\"ReliefWeb Youtube\"><svg height=\"100\" viewbox=\"0 0 32 32\" width=\"100\" xmlns=\"http://www.w3.org/2000/svg\"><path d=\"M14 12.97l0 6.04c1.69-1.02 3.34-2 5.03-3.02l-5.03-3.02ZM24 14.67l0 2.63c-0.03 0.28-0.04 0.56-0.08 0.84 -0.11 0.75-0.18 1.5-0.36 2.23 -0.19 0.76-0.75 1.25-1.53 1.34 -1.04 0.12-2.1 0.17-3.15 0.2 -2.8 0.09-5.61 0.08-8.41-0.14 -1.27-0.1-1.9-0.61-2.15-1.86 -0.16-0.79-0.21-1.62-0.26-2.43 -0.09-1.72-0.07-3.43 0.18-5.14 0.19-1.23 0.76-2.12 2.31-2.17 1.3-0.04 2.6-0.16 3.9-0.14 2.46 0.02 4.92 0.09 7.38 0.18 0.84 0.03 1.45 0.51 1.72 1.32 0.16 0.47 0.24 0.96 0.31 1.45 0.08 0.56 0.1 1.12 0.15 1.69\"></path></svg></a>\n",
       "</div>\n",
       "<!-- Global links -->\n",
       "<div class=\"navigation-global-contact\">\n",
       "<ul>\n",
       "<li><a href=\"/about\">About Us</a></li>\n",
       "<li><a href=\"/help\">Help</a></li>\n",
       "<li>\n",
       "<ul class=\"menu\"><li class=\"first last leaf\"><a href=\"/user/login\" title=\"Login to ReliefWeb.\">Login / Register</a></li>\n",
       "</ul> </li>\n",
       "</ul>\n",
       "</div>\n",
       "</div>\n",
       "</div>\n",
       "<!-- Content -->\n",
       "<div class=\"content\">\n",
       "<!-- Navigation - Top -->\n",
       "<div class=\" navigation-section navigation-section-header clearfix\">\n",
       "<div class=\"navigation-section-main-menu\">\n",
       "<ul class=\"menu\"><li class=\"first collapsed\"><a href=\"/\" title=\"\">Home</a></li>\n",
       "<li class=\"leaf active-trail\"><a class=\"active-trail active\" href=\"/updates\" title=\"Updates\">Updates</a></li>\n",
       "<li class=\"leaf\"><a href=\"/countries\" title=\"Countries\">Countries</a></li>\n",
       "<li class=\"leaf\"><a href=\"/disasters\" title=\"Disasters\">Disasters</a></li>\n",
       "<li class=\"leaf\"><a href=\"/topics\" title=\"\">Topics</a></li>\n",
       "<li class=\"leaf\"><a href=\"/organizations\" title=\"\">Organizations</a></li>\n",
       "<li class=\"leaf\"><a href=\"/jobs\" title=\"Jobs\">Jobs</a></li>\n",
       "<li class=\"last leaf\"><a href=\"/training\" title=\"Training\">Training</a></li>\n",
       "</ul> </div>\n",
       "<div class=\"navigation-section-search searchbox\">\n",
       "<form action=\"/search/results/\">\n",
       "<input class=\"search\" name=\"search\" placeholder=\"Search ReliefWeb\" title=\"Search\" type=\"text\"/>\n",
       "<input class=\"search-button\" type=\"submit\" value=\"Search\"/>\n",
       "</form>\n",
       "</div>\n",
       "</div>\n",
       "<!-- Messages -->\n",
       "<!-- Blog headers -->\n",
       "<!-- Blue header - Local tasks or has a subtitle -->\n",
       "<!-- Page -->\n",
       "<div class=\"outer\" id=\"page\"><div class=\"limiter clearfix\" id=\"main-content\">\n",
       "<!-- Headers -->\n",
       "<!-- Help -->\n",
       "<div class=\"page-body clearfix\">\n",
       "<div class=\"page-content_top clearfix\" id=\"content_top\">\n",
       "</div>\n",
       "<div class=\"page-content clearfix\" id=\"content\">\n",
       "<div class=\"region region-content\">\n",
       "<div class=\"node node-report node-full node-page\" id=\"node-2404849\">\n",
       "<div class=\"node-meta clearfix\"><div class=\"submitted\"><span class=\"icon\"></span>08 Jan 2018</div><ul class=\"social-media-links\"><li class=\"social-media-link facebook first\"><a href=\"https://www.facebook.com/sharer.php?u=https%3A//reliefweb.int/report/afghanistan/more-200-displaced-families-receive-cash-assistance-laghman-province%3Futm_medium%3Dsocial%26utm_campaign%3Dshared%26utm_source%3Dfacebook.com&amp;t=More%20than%20200%20Displaced%20families%20Receive%20Cash%20Assistance%20in%20Laghman%20Province\" rel=\"nofollow noopener noreferrer\" target=\"_blank\" title=\"Share this on Facebook\"><svg height=\"100\" viewbox=\"0 0 32 32\" width=\"100\" xmlns=\"http://www.w3.org/2000/svg\"><path d=\"M19.47 16.57l-2.25 0 0 8.03 -3.33 0 0-8.02 -1.59 0 0-2.83 1.59 0 0-1.84c0-1.31 0.62-3.37 3.37-3.37l2.47 0.01 0 2.75 -1.79 0c-0.29 0-0.71 0.15-0.71 0.77l0 1.67 2.54 0 -0.29 2.84Z\"></path></svg></a></li>\n",
       "<li class=\"social-media-link twitter\"><a href=\"https://twitter.com/share?url=https%3A//reliefweb.int/report/afghanistan/more-200-displaced-families-receive-cash-assistance-laghman-province%3Futm_medium%3Dsocial%26utm_campaign%3Dshared%26utm_source%3Dtwitter.com&amp;text=More%20than%20200%20Displaced%20families%20Receive%20Cash%20Assistance%20in%20Laghman%20Province&amp;via=reliefweb\" rel=\"nofollow noopener noreferrer\" target=\"_blank\" title=\"Share this on Twitter\"><svg height=\"100\" viewbox=\"0 0 32 32\" width=\"100\" xmlns=\"http://www.w3.org/2000/svg\"><path d=\"M22.44 11.57c-0.52 0.32-1.09 0.55-1.71 0.67 -0.49-0.53-1.19-0.87-1.96-0.87 -1.48 0-2.69 1.23-2.69 2.76 0 0.22 0.02 0.43 0.07 0.63 -2.23-0.11-4.21-1.21-5.54-2.88 -0.23 0.41-0.36 0.88-0.36 1.39 0 0.96 0.48 1.8 1.2 2.29 -0.44-0.01-0.85-0.14-1.22-0.34l0 0.03c0 1.34 0.93 2.45 2.16 2.7 -0.22 0.07-0.46 0.1-0.71 0.1 -0.17 0-0.34-0.02-0.51-0.05 0.34 1.1 1.33 1.89 2.51 1.91 -0.92 0.74-2.08 1.18-3.34 1.18 -0.22 0-0.43-0.01-0.64-0.04 1.19 0.78 2.6 1.24 4.12 1.24 4.95 0 7.65-4.2 7.65-7.84 0-0.12 0-0.24-0.01-0.36 0.53-0.39 0.98-0.87 1.34-1.43 -0.48 0.22-1 0.37-1.54 0.43 0.56-0.34 0.98-0.88 1.18-1.52\"></path></svg></a></li>\n",
       "<li class=\"social-media-link google-plus\"><a href=\"https://plus.google.com/share?url=https%3A//reliefweb.int/report/afghanistan/more-200-displaced-families-receive-cash-assistance-laghman-province%3Futm_medium%3Dsocial%26utm_campaign%3Dshared%26utm_source%3Dplus.google.com\" rel=\"nofollow noopener noreferrer\" target=\"_blank\" title=\"Share this on Google+\"><svg height=\"100\" viewbox=\"0 0 32 32\" width=\"100\" xmlns=\"http://www.w3.org/2000/svg\"><path d=\"M18.27 14.67c0.36 2.55-0.72 6.38-5.11 6.38 -2.94 0-5.32-2.38-5.32-5.33 0-2.94 2.38-5.33 5.32-5.33 1.38 0 2.63 0.53 3.58 1.39 -1.11 1.05-1.08 1.12-1.51 1.55 -0.55-0.45-1.14-0.78-2.06-0.78 -1.74 0-3.11 1.42-3.11 3.16 0 1.75 1.36 3.16 3.11 3.16 1.72 0 2.42-0.74 2.87-2.11 -0.83 0-2.87 0-2.87 0l0-2.11 5.11 0ZM22.75 12.93l0 1.85 1.84 0 0 1.32 -1.84 0 0 1.9 -1.32 0 0-1.9 -1.89 0 0-1.32 1.9 0 0-1.85 1.32 0Z\"></path></svg></a></li>\n",
       "<li class=\"social-media-link linkedin\"><a href=\"https://www.linkedin.com/shareArticle?mini=true&amp;url=https%3A//reliefweb.int/report/afghanistan/more-200-displaced-families-receive-cash-assistance-laghman-province%3Futm_medium%3Dsocial%26utm_campaign%3Dshared%26utm_source%3Dlinkedin.com&amp;title=More%20than%20200%20Displaced%20families%20Receive%20Cash%20Assistance%20in%20Laghman%20Province&amp;summary=Directorate%20of%20Refugees%20and%20Repatriations%28DoRR%29%20of%20Laghman%20province%20with%20co-operation%20of%20DRC%20and%20CWSA%20have%20distributed%20for%20203%20displaced%20families%20which%20displaced%20from%20insecure%20places%20of%20Alingar%2C%20Kanda%20gul%2C%20districts%20and%20Khogiani%20district%20of%20Nangarhar%20province%20and%20returnees%20from%20Pakistan%20have%20placed%20in%20the%20central%20of%20this%20province.%0A%0AThursday%20January%204%2C%202018%20of%20the%20current%20year%20for%20143%20displaced%20families%20distributed%2018000Af%20by%20DRC%20and%20for%2060%20displaced%20families%20distributed%20100%24%20dolor%20by%20CWSA.&amp;source=ReliefWeb\" rel=\"nofollow noopener noreferrer\" target=\"_blank\" title=\"Post this on LinkedIn\"><svg height=\"100\" viewbox=\"0 0 32 32\" width=\"100\" xmlns=\"http://www.w3.org/2000/svg\"><path d=\"M16.68 14.03l0 1.17c0.15-0.51 0.97-1.25 2.28-1.25 1.62 0 2.9 1.08 2.9 3.39l0 4.16 -2.59 0 0-3.87c0-1.01-0.41-1.7-1.3-1.7 -0.68 0-1.06 0.47-1.24 0.92 -0.07 0.16-0.05 0.39-0.05 0.61l0 4.05 -2.57 0c0 0 0.03-6.85 0-7.48l2.57 0ZM10.43 14.03l2.29 0 0 7.48 -2.29 0 0-7.48ZM11.53 10.5c-0.84 0-1.4 0.56-1.4 1.3 0 0.73 0.54 1.3 1.36 1.3l0.02 0c0.86 0 1.39-0.57 1.39-1.3 -0.02-0.74-0.53-1.3-1.38-1.3Z\"></path></svg></a></li>\n",
       "<li class=\"social-media-link email last\"><a href=\"mailto:?subject=%5BReliefWeb%20report%5D%20More%20than%20200%20Displaced%20families%20Receive%20Cash%20Assistance%20in%20Laghman%20Province&amp;body=Directorate%20of%20Refugees%20and%20Repatriations%28DoRR%29%20of%20Laghman%20province%20with%20co-operation%20of%20DRC%20and%20CWSA%20have%20distributed%20for%20203%20displaced%20families%20which%20displaced%20from%20insecure%20places%20of%20Alingar%2C%20Kanda%20gul%2C%20districts%20and%20Khogiani%20district%20of%20Nangarhar%20province%20and%20returnees%20from%20Pakistan%20have%20placed%20in%20the%20central%20of%20this%20province.%0A%0AThursday%20January%204%2C%202018%20of%20the%20current%20year%20for%20143%20displaced%20families%20distributed%2018000Af%20by%20DRC%20and%20for%2060%20displaced%20families%20distributed%20100%24%20dolor%20by%20CWSA.%0A%0ARead%20this%20in%20full%20on%20ReliefWeb%3A%20https%3A//reliefweb.int/report/afghanistan/more-200-displaced-families-receive-cash-assistance-laghman-province%3Futm_medium%3Demail%26utm_source%3Duser%26utm_campaign%3Dshared&amp;to=\" rel=\"nofollow noopener noreferrer\" target=\"_blank\" title=\"Forward this page (opens email client)\"><svg height=\"100\" viewbox=\"0 0 32 32\" width=\"100\" xmlns=\"http://www.w3.org/2000/svg\"><path d=\"M8.7 17.9l0-4.6 4.08 2.45 -4.08 2.15ZM8.7 19.5l5.51-2.9 1.69 1.01 0.14 0.05 1.76-1.06 5.51 2.9 0 0.42 -14.6 0 0-0.42ZM9.65 12.08l12.7 0 -6.35 3.81 -6.35-3.81ZM23.3 13.3l0 4.6 -4.08-2.15 4.08-2.45ZM7.36 21.27l17.28 0 0-10.53 -17.28 0 0 10.53Z\"></path></svg></a></li>\n",
       "</ul></div>\n",
       "<div class=\"node-links clearfix\"></div>\n",
       "<h1 class=\"node-title clearfix\">More than 200 Displaced families Receive Cash Assistance in Laghman Province</h1>\n",
       "<div class=\"node-info clearfix\"><div class=\"field-content-format\"><div class=\"content-format report\">Report</div></div><span class=\"separator\">from</span><span class=\"field field-source\">\n",
       "<a href=\"/organization/govt-afghanistan\">Government of Afghanistan</a></span>\n",
       "<div class=\"extra-info\"><span class=\"published-label\">Published on</span><span class=\"field field-report-date\">\n",
       "<span class=\"date-display-single\">06 Jan 2018</span></span>\n",
       "<span class=\"separator\">—</span><span class=\"field field-origin-notes\">\n",
       "<span class=\"icon\"></span><a href=\"http://morr.gov.af/en/news/70008\">View Original</a></span>\n",
       "</div></div>\n",
       "<div class=\"node-content clearfix\"><div class=\"field body\">\n",
       "<p>Directorate of Refugees and Repatriations(DoRR) of Laghman province with co-operation of DRC and CWSA have distributed for 203 displaced families which displaced from insecure places of Alingar, Kanda gul, districts and Khogiani district of Nangarhar province and returnees from Pakistan have placed in the central of this province.</p>\n",
       "<p>Thursday January 4, 2018 of the current year for 143 displaced families distributed 18000Af by DRC and for 60 displaced families distributed 100$ dolor by CWSA.</p></div>\n",
       "</div>\n",
       "</div>\n",
       "</div>\n",
       "</div>\n",
       "<div class=\"sidebar clearfix\" id=\"sidebar-first\"> <div class=\"region region-sidebar-first\">\n",
       "<div class=\"block block-reliefweb-taxonomy block-delta-report-countries clearfix\" id=\"block-reliefweb-taxonomy-report-countries\">\n",
       "<div class=\"block-content clearfix\"><div class=\"active-header status-current\"><h3>Ongoing</h3></div>\n",
       "<div class=\"primary-country\"><div class=\"field field-term-image\">\n",
       "<img alt=\"\" height=\"40\" src=\"https://reliefweb.int/sites/reliefweb.int/files/country-icons/afg.png\" width=\"40\"/></div>\n",
       "<div class=\"country status-current\"><h4>Primary country</h4><a href=\"/country/afg\">Afghanistan</a></div></div></div>\n",
       "</div>\n",
       "<div class=\"block block-reliefweb-node block-delta-node-fields clearfix\" id=\"block-reliefweb-node-node-fields\">\n",
       "<div class=\"block-content clearfix\"><ul class=\"fields\"><li class=\"field content-format\"><h4>Content format:</h4><ul><li><a href=\"/updates?format=8\">News and Press Release</a></li></ul></li><li class=\"field language\"><h4>Language:</h4><ul><li><a href=\"/updates?language=267\">English</a></li></ul></li><li class=\"field theme\"><h4>Theme:</h4><ul><li><a href=\"/updates?theme=4603\">Shelter and Non-Food Items</a></li></ul></li><li class=\"field vulnerable-groups\"><h4>Vulnerable groups:</h4><ul><li><a href=\"/updates?vulnerable_groups=6872\">IDPs</a></li></ul></li></ul></div>\n",
       "</div>\n",
       "</div>\n",
       "</div>\n",
       "<div class=\"page-content_bottom clearfix\" id=\"content_bottom\">\n",
       "</div>\n",
       "</div>\n",
       "</div></div>\n",
       "<!-- End Page -->\n",
       "<!-- Navigation - Bottom -->\n",
       "<div class=\"navigation-section navigation-section-footer clearfix\">\n",
       "<div class=\"navigation-section-main-menu\">\n",
       "<ul class=\"menu\"><li class=\"first collapsed\"><a href=\"/\" title=\"\">Home</a></li>\n",
       "<li class=\"leaf active-trail\"><a class=\"active-trail active\" href=\"/updates\" title=\"Updates\">Updates</a></li>\n",
       "<li class=\"leaf\"><a href=\"/countries\" title=\"Countries\">Countries</a></li>\n",
       "<li class=\"leaf\"><a href=\"/disasters\" title=\"Disasters\">Disasters</a></li>\n",
       "<li class=\"leaf\"><a href=\"/topics\" title=\"\">Topics</a></li>\n",
       "<li class=\"leaf\"><a href=\"/organizations\" title=\"\">Organizations</a></li>\n",
       "<li class=\"leaf\"><a href=\"/jobs\" title=\"Jobs\">Jobs</a></li>\n",
       "<li class=\"last leaf\"><a href=\"/training\" title=\"Training\">Training</a></li>\n",
       "</ul> </div>\n",
       "<div class=\"navigation-section-contact\">\n",
       "<ul>\n",
       "<li><a href=\"/about\">About Us</a></li>\n",
       "<li><a href=\"/help\">Help</a></li>\n",
       "</ul>\n",
       "</div>\n",
       "</div>\n",
       "</div>\n",
       "<!-- End Content -->\n",
       "<div class=\"footer\">\n",
       "<div class=\"content\">\n",
       "<!-- First row block -->\n",
       "<div class=\"row row-top clearfix\">\n",
       "<div class=\"column column-description footer-top-left\">\n",
       "<h3 class=\"logo-footer\"><a class=\"logo\" href=\"/\">ReliefWeb</a></h3>\n",
       "<h4>Informing humanitarians worldwide.</h4>\n",
       "<p class=\"big\">A service provided by\n",
       "          <a class=\"logo-ocha\" href=\"https://www.unocha.org\"></a></p>\n",
       "<p class=\"big\">ReliefWeb has been the leading online source for reliable and timely humanitarian information on global crises and disasters since 1996.<br/><a href=\"/about\">Learn more about ReliefWeb</a></p>\n",
       "</div>\n",
       "<div class=\"column column-blog footer-top-middle\">\n",
       "<a class=\"footer-block__heading\" href=\"/blog\"><img alt=\"The ReliefWeb blog\" src=\"https://reliefweb.int/profiles/reliefweb/themes/kobe/images/blog-title.png\" width=\"140\"/></a>\n",
       "<h2 class=\"footer-block__sub-heading footer-block__sub-heading--blog\"><a href=\"/blogpost/improved-training-section-makes-it-easier-find-opportunities-you-are-looking\">Improved Training section makes it easier to find the opportunities you are looking for</a></h2>\n",
       "<p>KEY POINTS</p>\n",
       "<p>We’ve improved our search filters to make finding training opportunities easier.</p>\n",
       "<p>New tabs allow you to discover free and online courses in one click.</p>\n",
       "<p>\n",
       "<a class=\"footer-block__highlight-link\" href=\"/blog\">Visit the blog</a>\n",
       "</p> </div>\n",
       "<div class=\"column column-social footer-top-right\">\n",
       "<h2 class=\"footer-block__heading\">Connect With ReliefWeb</h2>\n",
       "<form action=\"https://reliefweb.us5.list-manage.com/subscribe/post?u=bbba5e49a58c86ed484b5a084&amp;id=45f2ec85e2\" class=\"validate\" id=\"mc-embedded-subscribe-form\" method=\"post\" name=\"mc-embedded-subscribe-form\" novalidate=\"\" target=\"_blank\">\n",
       "<label class=\"footer-block__sub-heading\" for=\"mce-EMAIL\">Receive news about us</label>\n",
       "<input class=\"email\" id=\"mce-EMAIL\" name=\"EMAIL\" placeholder=\"Email address\" required=\"\" type=\"text\" value=\"\"/>\n",
       "<input class=\"btn btn-default\" id=\"mc-embedded-subscribe\" name=\"subscribe\" type=\"submit\" value=\"Subscribe\"/>\n",
       "</form>\n",
       "<div class=\"social-media-icons\">\n",
       "<a href=\"https://www.facebook.com/reliefweb\" title=\"ReliefWeb Facebook\"><svg height=\"100\" viewbox=\"0 0 32 32\" width=\"100\" xmlns=\"http://www.w3.org/2000/svg\"><path d=\"M19.47 16.57l-2.25 0 0 8.03 -3.33 0 0-8.02 -1.59 0 0-2.83 1.59 0 0-1.84c0-1.31 0.62-3.37 3.37-3.37l2.47 0.01 0 2.75 -1.79 0c-0.29 0-0.71 0.15-0.71 0.77l0 1.67 2.54 0 -0.29 2.84Z\"></path></svg></a>\n",
       "<a href=\"https://twitter.com/reliefweb\" title=\"ReliefWeb Twitter\"><svg height=\"100\" viewbox=\"0 0 32 32\" width=\"100\" xmlns=\"http://www.w3.org/2000/svg\"><path d=\"M22.44 11.57c-0.52 0.32-1.09 0.55-1.71 0.67 -0.49-0.53-1.19-0.87-1.96-0.87 -1.48 0-2.69 1.23-2.69 2.76 0 0.22 0.02 0.43 0.07 0.63 -2.23-0.11-4.21-1.21-5.54-2.88 -0.23 0.41-0.36 0.88-0.36 1.39 0 0.96 0.48 1.8 1.2 2.29 -0.44-0.01-0.85-0.14-1.22-0.34l0 0.03c0 1.34 0.93 2.45 2.16 2.7 -0.22 0.07-0.46 0.1-0.71 0.1 -0.17 0-0.34-0.02-0.51-0.05 0.34 1.1 1.33 1.89 2.51 1.91 -0.92 0.74-2.08 1.18-3.34 1.18 -0.22 0-0.43-0.01-0.64-0.04 1.19 0.78 2.6 1.24 4.12 1.24 4.95 0 7.65-4.2 7.65-7.84 0-0.12 0-0.24-0.01-0.36 0.53-0.39 0.98-0.87 1.34-1.43 -0.48 0.22-1 0.37-1.54 0.43 0.56-0.34 0.98-0.88 1.18-1.52\"></path></svg></a>\n",
       "<a href=\"https://www.linkedin.com/company/reliefweb\" title=\"ReliefWeb LinkedIn\"><svg height=\"100\" viewbox=\"0 0 32 32\" width=\"100\" xmlns=\"http://www.w3.org/2000/svg\"><path d=\"M16.68 14.03l0 1.17c0.15-0.51 0.97-1.25 2.28-1.25 1.62 0 2.9 1.08 2.9 3.39l0 4.16 -2.59 0 0-3.87c0-1.01-0.41-1.7-1.3-1.7 -0.68 0-1.06 0.47-1.24 0.92 -0.07 0.16-0.05 0.39-0.05 0.61l0 4.05 -2.57 0c0 0 0.03-6.85 0-7.48l2.57 0ZM10.43 14.03l2.29 0 0 7.48 -2.29 0 0-7.48ZM11.53 10.5c-0.84 0-1.4 0.56-1.4 1.3 0 0.73 0.54 1.3 1.36 1.3l0.02 0c0.86 0 1.39-0.57 1.39-1.3 -0.02-0.74-0.53-1.3-1.38-1.3Z\"></path></svg></a>\n",
       "<a href=\"https://www.youtube.com/channel/UC4RQutFVU_1OSNtOzGyBfGw\" title=\"ReliefWeb Youtube\"><svg height=\"100\" viewbox=\"0 0 32 32\" width=\"100\" xmlns=\"http://www.w3.org/2000/svg\"><path d=\"M14 12.97l0 6.04c1.69-1.02 3.34-2 5.03-3.02l-5.03-3.02ZM24 14.67l0 2.63c-0.03 0.28-0.04 0.56-0.08 0.84 -0.11 0.75-0.18 1.5-0.36 2.23 -0.19 0.76-0.75 1.25-1.53 1.34 -1.04 0.12-2.1 0.17-3.15 0.2 -2.8 0.09-5.61 0.08-8.41-0.14 -1.27-0.1-1.9-0.61-2.15-1.86 -0.16-0.79-0.21-1.62-0.26-2.43 -0.09-1.72-0.07-3.43 0.18-5.14 0.19-1.23 0.76-2.12 2.31-2.17 1.3-0.04 2.6-0.16 3.9-0.14 2.46 0.02 4.92 0.09 7.38 0.18 0.84 0.03 1.45 0.51 1.72 1.32 0.16 0.47 0.24 0.96 0.31 1.45 0.08 0.56 0.1 1.12 0.15 1.69\"></path></svg></a>\n",
       "</div>\n",
       "</div>\n",
       "</div>\n",
       "<!-- Second row block -->\n",
       "<div class=\"row row-bottom clearfix\">\n",
       "<div class=\"column column-partners footer-bottom-left\">\n",
       "<h3>Related Sites</h3>\n",
       "<div class=\"partner-link\"><a class=\"related logo-humanitarianresponse\" href=\"https://www.humanitarianresponse.info/\" target=\"_blank\" title=\"Humanitarian Response\"></a></div>\n",
       "<div class=\"partner-link\"><a class=\"related logo-hdx\" href=\"https://humdata.org/\" target=\"_blank\" title=\"Humanitarian Data Exchange\"></a></div>\n",
       "<div class=\"partner-link\"><a class=\"related logo-fts\" href=\"https://fts.unocha.org\" target=\"_blank\" title=\"Financial Tracking Service\"></a></div>\n",
       "<div class=\"partner-link\"><a class=\"related logo-hid\" href=\"https://www.humanitarian.id\" target=\"_blank\" title=\"Humanitarian ID\"></a></div>\n",
       "<div class=\"partner-link\"><a class=\"related logo-gdacs\" href=\"http://www.gdacs.org\" target=\"_blank\" title=\"Global Disaster Alert and Coordination System\"></a></div>\n",
       "<div class=\"partner-link\"><a class=\"related logo-redhum\" href=\"http://www.redhum.org\" target=\"_blank\" title=\"Red de Información Humanitaria para América Latina y el Caribe\"></a></div>\n",
       "<div class=\"partner-link\"><a class=\"related logo-inform\" href=\"http://www.inform-index.org\" target=\"_blank\" title=\"Inform Index\"></a></div>\n",
       "<div class=\"partner-link\"><a class=\"related logo-cerf\" href=\"https://www.unocha.org/cerf/\" target=\"_blank\" title=\"Central Emergency Response Fund\"></a></div>\n",
       "<div class=\"partner-link\"><a class=\"related logo-afh\" href=\"http://agendaforhumanity.org\" target=\"_blank\" title=\"Agenda for Humanity\"></a></div>\n",
       "<div class=\"partner-link\"><a class=\"related logo-iasc\" href=\"https://www.interagencystandingcommittee.org\" target=\"_blank\" title=\"Inter-Agency Standing Committee\"></a></div>\n",
       "<div class=\"partner-link\"><a class=\"related logo-vosocc\" href=\"https://vosocc.unocha.org\" target=\"_blank\" title=\"Virtual OSOCC - real-time disaster coordination\"></a></div>\n",
       "<div class=\"partner-link\"><a class=\"related logo-insarag\" href=\"https://www.insarag.org\" target=\"_blank\" title=\"International Search and Rescue Advisory Group\"></a></div>\n",
       "<div class=\"partner-link\"><a class=\"related logo-pw\" href=\"http://www.preventionweb.net/\" target=\"_blank\" title=\"PreventionWeb\"></a></div>\n",
       "<div class=\"partner-link\"><a class=\"related logo-kobo\" href=\"http://www.kobotoolbox.org/\" target=\"_blank\" title=\"Kobo Toolbox\"></a></div>\n",
       "</div>\n",
       "<div class=\"column column-submit-content footer-bottom-middle\">\n",
       "<h3>Submit Content</h3>\n",
       "<p>Share information through ReliefWeb to better inform humanitarians worldwide.</p>\n",
       "<a class=\"button\" href=\"/share\">How to submit content</a>\n",
       "</div>\n",
       "<div class=\"column column-tools footer-bottom-right\">\n",
       "<h3>Tools</h3>\n",
       "<ul>\n",
       "<li><a href=\"/help/api\">API</a> - Real-time data stream to power next-generation apps.</li>\n",
       "<li><a href=\"/location-maps\">Location Maps</a> - Country maps for your reports and presentations.</li>\n",
       "<li><a href=\"/map/world/world-humanitarian-and-country-icons-2012\">Humanitarian Icons</a> - Ready-to-use symbols and icons. Free download.</li>\n",
       "<li><a href=\"/rss\">RSS</a> - Subscribe to information finely tuned to your needs.</li>\n",
       "<li><a href=\"/faq\">Frequently Asked Questions</a> - Get answers to common problems and learn more about ReliefWeb.</li>\n",
       "<li><a href=\"/contact\">Contact Us</a> - Ask questions and suggest improvements.</li>\n",
       "</ul>\n",
       "</div>\n",
       "</div>\n",
       "</div>\n",
       "</div>\n",
       "</body>\n",
       "</html>"
      ]
     },
     "execution_count": 123,
     "metadata": {},
     "output_type": "execute_result"
    }
   ],
   "source": [
    "# convert to BeautifulSoup\n",
    "soup = BeautifulSoup(content, \"lxml\")\n",
    "soup"
   ]
  },
  {
   "cell_type": "code",
   "execution_count": 128,
   "metadata": {},
   "outputs": [
    {
     "data": {
      "text/plain": [
       "'Directorate of Refugees and Repatriations(DoRR) of Laghman province with co-operation of DRC and CWSA have distributed for 203 displaced families which displaced from insecure places of Alingar, Kanda gul, districts and Khogiani district of Nangarhar province and returnees from Pakistan have placed in the central of this province.\\nThursday January 4, 2018 of the current year for 143 displaced families distributed 18000Af by DRC and for 60 displaced families distributed 100$ dolor by CWSA.'"
      ]
     },
     "execution_count": 128,
     "metadata": {},
     "output_type": "execute_result"
    }
   ],
   "source": [
    "# extract body text from page HTML (we'll do this together)\n",
    "body = soup.find(\"div\", {\"class\" : \"field body\"})\n",
    "body = body.text.strip()\n",
    "body"
   ]
  },
  {
   "cell_type": "code",
   "execution_count": 129,
   "metadata": {},
   "outputs": [
    {
     "data": {
      "text/plain": [
       "'More than 200 Displaced families Receive Cash Assistance in Laghman Province'"
      ]
     },
     "execution_count": 129,
     "metadata": {},
     "output_type": "execute_result"
    }
   ],
   "source": [
    "# extract title from page HTML\n",
    "title = soup.find(\"h1\", {\"class\" : \"node-title clearfix\"})\n",
    "title.text"
   ]
  },
  {
   "cell_type": "code",
   "execution_count": 131,
   "metadata": {},
   "outputs": [
    {
     "data": {
      "text/plain": [
       "'Government of Afghanistan'"
      ]
     },
     "execution_count": 131,
     "metadata": {},
     "output_type": "execute_result"
    }
   ],
   "source": [
    "# extract author from page HTML\n",
    "author = soup.find(\"span\", {\"class\" : \"field field-source\"})\n",
    "author.text.strip()"
   ]
  },
  {
   "cell_type": "code",
   "execution_count": 136,
   "metadata": {},
   "outputs": [
    {
     "data": {
      "text/plain": [
       "'2018-01-06'"
      ]
     },
     "execution_count": 136,
     "metadata": {},
     "output_type": "execute_result"
    }
   ],
   "source": [
    "# extract date from page HTML\n",
    "raw_date = soup.find(\"span\", {\"class\" : \"date-display-single\"}).text\n",
    "# convert from raw text into a standardized form\n",
    "date = dateutil.parser.parse(raw_date)\n",
    "# Put it into a standard ISO format \n",
    "date = date.strftime(\"%Y-%m-%d\")\n",
    "date"
   ]
  },
  {
   "cell_type": "code",
   "execution_count": null,
   "metadata": {},
   "outputs": [],
   "source": []
  },
  {
   "cell_type": "code",
   "execution_count": 140,
   "metadata": {
    "collapsed": true
   },
   "outputs": [],
   "source": [
    "# put it all together!\n",
    "def page_scraper(url):\n",
    "    \"\"\"Function to scrape a page\"\"\"\n",
    "    # Code to download and soupify the page\n",
    "    page = requests.get(url)\n",
    "    content = page.content\n",
    "    soup = BeautifulSoup(content, \"lxml\")\n",
    "    # All the code to extract pieces from the HTML\n",
    "    title = soup.find(\"h1\", {\"class\" : \"node-title clearfix\"})\n",
    "    title = title.text.strip()\n",
    "    body = soup.find(\"div\", {\"class\" : \"field body\"})\n",
    "    body = body.text.strip()\n",
    "    raw_date = soup.find(\"span\", {\"class\" : \"date-display-single\"}).text\n",
    "    date = dateutil.parser.parse(raw_date)\n",
    "    date = date.strftime(\"%Y-%m-%d\")\n",
    "    author = soup.find(\"span\", {\"class\" : \"field field-source\"})\n",
    "    author = author.text.strip()\n",
    "    article = {\n",
    "        \"title\" : title,\n",
    "        \"body\" : body,\n",
    "        \"date\" : date,\n",
    "        \"author\" : author\n",
    "    }\n",
    "    return article"
   ]
  },
  {
   "cell_type": "code",
   "execution_count": 141,
   "metadata": {},
   "outputs": [
    {
     "data": {
      "text/plain": [
       "{'author': 'Government of Afghanistan',\n",
       " 'body': 'Directorate of Refugees and Repatriations(DoRR) of Laghman province with co-operation of DRC and CWSA have distributed for 203 displaced families which displaced from insecure places of Alingar, Kanda gul, districts and Khogiani district of Nangarhar province and returnees from Pakistan have placed in the central of this province.\\nThursday January 4, 2018 of the current year for 143 displaced families distributed 18000Af by DRC and for 60 displaced families distributed 100$ dolor by CWSA.',\n",
       " 'date': '2018-01-06',\n",
       " 'title': 'More than 200 Displaced families Receive Cash Assistance in Laghman Province'}"
      ]
     },
     "execution_count": 141,
     "metadata": {},
     "output_type": "execute_result"
    }
   ],
   "source": [
    "# test it\n",
    "page_scraper(url)"
   ]
  },
  {
   "cell_type": "code",
   "execution_count": 142,
   "metadata": {},
   "outputs": [
    {
     "data": {
      "text/plain": [
       "{'author': 'International Organization for Migration',\n",
       " 'body': 'Kuwait – As the recent Kuwait International Conference for the Reconstruction of Iraq came to a close, IOM, the UN Migration Agency, reported that internally displaced persons (IDPs) in Iraq continue to return home by the thousands.\\nAccording to IOM’s latest Displacement Tracking Matrix (DTM) report, as of 31 January 2018 more than 3.3 million Iraqis have returned to their areas of origin, while nearly 2.5 million people continue to live in displacement. New IOM figures show that return movements are ongoing – in January another 125,000 returnees were identified – mainly to the four governorates of Ninewa, Salah al-Din, Kirkuk and Anbar.\\nSince the start of the crisis in early 2014, with ISIL later holding large parts of central Iraq and the subsequent conflict to retake these areas, nearly six million Iraqis have been displaced. Their communities have suffered widespread devastation and damage.\\nIn January 2018, for the first time in more than three years, there were more returnees than internally displaced people. In the last three years, Anbar Governorate has received the largest number of returnees in the country, due to improved security, rehabilitation of services and rebuilding of infrastructures.\\nIn January 2018, the three governorates reporting the biggest decreases in IDP numbers were Ninewa (- 6 per cent), Baghdad (- 12 per cent), and Anbar (- 17 per cent). Together, they account for almost two-thirds of the nationwide decrease of IDPs (more than 145,000). Of the remaining 2.47 million IDPs in Iraq, only half (51 per cent) are reportedly housed in private settings, while more than a quarter (26 per cent) still live in camps.\\nThough Ninewa Governorate accounts for two-thirds (nearly 84,000) of the new returnees identified in January, IOM has noted that not all returnees to Mosul city stay there.\\nDue to lack of security, services and livelihood opportunities in west Mosul, approximately 600 families returned in January to Haj Ali camp.\\nReturnees living in critical shelters, including informal settlements and unfinished buildings, are concentrated in four governorates – Diyala (21,500 individuals), Salah al-Din (12,400), Ninewa (7,500) and Kirkuk (800). Iraq’s urgent need for fast-track reconstruction to assist the reintegration of IDPs in their areas of origin was also discussed at the recent Kuwait International Conference for Reconstruction of Iraq this past week.\\n“As Iraq enters the recovery phase after three years of conflict, we should remember that real reconstruction of the country will not only be based on rebuilding infrastructure,” said IOM Iraq Chief of Mission Gerard Waite. “Provision of specialized support to all who survived the conflict is also needed, alongside reconstruction of infrastructure.”\\nDuring the Kuwait conference, the UN launched a two-year Recovery and Resilience Programme, in which IOM Iraq takes part, to assist the Iraqi government in addressing the multiple needs for rebuilding and reconstruction in the country. The UN Secretary General spoke about the programme in his speech at the conference.\\nIOM Iraq, in partnership with the Government of Iraq, is focusing its recovery assistance on areas of return. This assistance includes mobile community information centres, light infrastructure projects, housing rehabilitation, strengthening health facilities, relief kit distribution and livelihood support.\\nFor more information on displacement across Iraq, visit the IOM Iraq DTM Portal: http://iraqdtm.iom.int\\nThe latest DTM report, with data through 31 January is available at:\\nhttps://reliefweb.int/node/2466259\\nFor more information please contact Sandra Black at IOM Iraq, Tel: +964 751 234 2550, Email: sblack@iom.int',\n",
       " 'date': '2018-02-20',\n",
       " 'title': 'Reconstruction Needed as Displaced Iraqis Continue to Return: IOM Iraq [EN/AR/KU]'}"
      ]
     },
     "execution_count": 142,
     "metadata": {},
     "output_type": "execute_result"
    }
   ],
   "source": [
    "# test it on a different page\n",
    "page_scraper(\"https://reliefweb.int/report/iraq/reconstruction-needed-displaced-iraqis-continue-return-iom-iraq\")"
   ]
  },
  {
   "cell_type": "code",
   "execution_count": null,
   "metadata": {
    "collapsed": true
   },
   "outputs": [],
   "source": []
  },
  {
   "cell_type": "markdown",
   "metadata": {},
   "source": [
    "## Link getter"
   ]
  },
  {
   "cell_type": "markdown",
   "metadata": {},
   "source": [
    "Second, we need to get the URLS of all the pages we want to scrape. We can do this by finding the directory pages, where the links are on it, and how to get all available directory pages.\n",
    "\n",
    "Python things to learn here:\n",
    "\n",
    "- getting values from dictionaries\n",
    "- for loops and list comprehensions\n",
    "- regex with the `re` library\n",
    "- basic string operations"
   ]
  },
  {
   "cell_type": "code",
   "execution_count": null,
   "metadata": {
    "collapsed": true
   },
   "outputs": [],
   "source": [
    "### Function to get all the article links from a single directory page"
   ]
  },
  {
   "cell_type": "code",
   "execution_count": 144,
   "metadata": {},
   "outputs": [],
   "source": [
    "url = \"https://reliefweb.int/country/afg?format=8&page=1\"\n",
    "page = requests.get(url)\n",
    "content = page.content"
   ]
  },
  {
   "cell_type": "code",
   "execution_count": 146,
   "metadata": {},
   "outputs": [],
   "source": [
    "soup = BeautifulSoup(content, \"lxml\")"
   ]
  },
  {
   "cell_type": "code",
   "execution_count": 152,
   "metadata": {},
   "outputs": [
    {
     "name": "stdout",
     "output_type": "stream",
     "text": [
      "[<a class=\"toggle\" href=\"#item-2465814\">description</a>, <a href=\"/country/afg\">Afghanistan</a>, <a href=\"/report/afghanistan/uk-helps-rid-war-torn-afghanistan-lethal-landmines-making-thousands-safer\">UK helps rid war-torn Afghanistan of lethal landmines making thousands safer</a>, <a href=\"/organization/dfid\">Department for International Development</a>, <a class=\"toggle\" href=\"#item-2464539\">description</a>]\n"
     ]
    }
   ],
   "source": [
    "links = soup.find(\"div\", {\"class\" : \"river-list river-updates river-sort-latest\"})\n",
    "links = links.find_all(\"a\")\n",
    "print(links[0:5])"
   ]
  },
  {
   "cell_type": "code",
   "execution_count": 153,
   "metadata": {},
   "outputs": [
    {
     "data": {
      "text/plain": [
       "['#item-2465814',\n",
       " '/country/afg',\n",
       " '/report/afghanistan/uk-helps-rid-war-torn-afghanistan-lethal-landmines-making-thousands-safer',\n",
       " '/organization/dfid',\n",
       " '#item-2464539',\n",
       " '/country/afg',\n",
       " '/report/afghanistan/polio-week-07-february-2018',\n",
       " '/organization/gpei',\n",
       " 'https://reliefweb.int/sites/reliefweb.int/files/resources/This%20Week%20%E2%80%93%20GPEI%20FEB%207.pdf',\n",
       " 'https://reliefweb.int/sites/reliefweb.int/files/resources/This%20Week%20%E2%80%93%20GPEI%20FEB%207.pdf']"
      ]
     },
     "execution_count": 153,
     "metadata": {},
     "output_type": "execute_result"
    }
   ],
   "source": [
    "# pull out just the links\n",
    "links = [i['href'] for i in links]\n",
    "links[0:10]"
   ]
  },
  {
   "cell_type": "code",
   "execution_count": 154,
   "metadata": {},
   "outputs": [
    {
     "data": {
      "text/plain": [
       "['/report/afghanistan/uk-helps-rid-war-torn-afghanistan-lethal-landmines-making-thousands-safer',\n",
       " '/report/afghanistan/polio-week-07-february-2018',\n",
       " '/report/afghanistan/afghanistan-managing-wastewater-help-improve-living-conditions',\n",
       " '/report/world/we-need-olympic-effort-climate-change',\n",
       " '/report/afghanistan/community-unites-resolve-long-standing-tribal-conflict-surobi-district']"
      ]
     },
     "execution_count": 154,
     "metadata": {},
     "output_type": "execute_result"
    }
   ],
   "source": [
    "# uh oh! `links` is full of all sorts of garbage. Is there a term\n",
    "#  that we can search for to reliably pull out article links only?\n",
    "links = [i for i in links if bool(re.match(\"/report\", i))]\n",
    "links[0:5]"
   ]
  },
  {
   "cell_type": "code",
   "execution_count": 155,
   "metadata": {},
   "outputs": [
    {
     "data": {
      "text/plain": [
       "['https://reliefweb.int/report/afghanistan/uk-helps-rid-war-torn-afghanistan-lethal-landmines-making-thousands-safer',\n",
       " 'https://reliefweb.int/report/afghanistan/polio-week-07-february-2018',\n",
       " 'https://reliefweb.int/report/afghanistan/afghanistan-managing-wastewater-help-improve-living-conditions',\n",
       " 'https://reliefweb.int/report/world/we-need-olympic-effort-climate-change',\n",
       " 'https://reliefweb.int/report/afghanistan/community-unites-resolve-long-standing-tribal-conflict-surobi-district']"
      ]
     },
     "execution_count": 155,
     "metadata": {},
     "output_type": "execute_result"
    }
   ],
   "source": [
    "# These aren't complete urls! We can use string operations plus a list comprehension to fix this:\n",
    "links = [\"https://reliefweb.int\" + i for i in links]\n",
    "links[0:5]"
   ]
  },
  {
   "cell_type": "code",
   "execution_count": 157,
   "metadata": {
    "collapsed": true
   },
   "outputs": [],
   "source": [
    "# Put it all together into a function that takes in a \"page number\" \n",
    "#  and returns all the links to scrape from it.\n",
    "def page_to_link(page_num):\n",
    "    # how to use .format()\n",
    "    url = \"https://reliefweb.int/country/afg?format=8&page={0}#content\".format(page_num)\n",
    "    # download the page\n",
    "    page = requests.get(url)\n",
    "    # get its content\n",
    "    content = page.content\n",
    "    # soupify\n",
    "    soup = BeautifulSoup(content, \"lxml\")\n",
    "    # pull out links\n",
    "    links = soup.find(\"div\", {\"class\" : \"river-list river-updates river-sort-latest\"})\n",
    "    links = links.find_all(\"a\")\n",
    "    links = [i['href'] for i in links]\n",
    "    # clean links\n",
    "    links = [i for i in links if bool(re.match(\"/report\", i))]\n",
    "    links = [\"https://reliefweb.int\" + i for i in links]\n",
    "    return links"
   ]
  },
  {
   "cell_type": "code",
   "execution_count": 158,
   "metadata": {},
   "outputs": [
    {
     "data": {
      "text/plain": [
       "['https://reliefweb.int/report/afghanistan/toll-conflict-afghan-women-worsens',\n",
       " 'https://reliefweb.int/report/pakistan/pakistan-prepared-polio-high-season',\n",
       " 'https://reliefweb.int/report/afghanistan/surobi-leaders-call-local-communities-embrace-mediation-peace',\n",
       " 'https://reliefweb.int/report/afghanistan/afghanistan-flash-floods-noaa-pmd-media-echo-daily-flash-18-july-2017',\n",
       " 'https://reliefweb.int/report/afghanistan/iom-special-case-nimroz',\n",
       " 'https://reliefweb.int/report/afghanistan/unfpa-midwifery-helpline-supports-helps-midwife-save-mother-s-life-remote-village',\n",
       " 'https://reliefweb.int/report/afghanistan/nearly-100-displaced-families-eastern-waziristan-return-home',\n",
       " 'https://reliefweb.int/report/afghanistan/nearly-300-afghan-returnees-received-cash-assistance-turkham',\n",
       " 'https://reliefweb.int/report/afghanistan/nearly-50-displaced-families-receive-humanitarian-assistance',\n",
       " 'https://reliefweb.int/report/pakistan/council-conclusions-pakistan-17-july-2017',\n",
       " 'https://reliefweb.int/report/afghanistan/military-justice-war-crimes-afghanistan',\n",
       " 'https://reliefweb.int/report/afghanistan/afghan-families-displaced-claim-lack-assistance',\n",
       " 'https://reliefweb.int/report/greece/uncertain-futures-briefing-note-situation-unaccompanied-and-separated-refugee-children',\n",
       " 'https://reliefweb.int/report/world/courage-children-who-ignore-conflict-and-threats-take-their-school-exams',\n",
       " 'https://reliefweb.int/report/afghanistan/united-nations-population-fund-presents-national-population-policy-afghanistan',\n",
       " 'https://reliefweb.int/report/syrian-arab-republic/polio-week-12-july-2017',\n",
       " 'https://reliefweb.int/report/afghanistan/osce-undp-complete-border-management-awareness-training',\n",
       " 'https://reliefweb.int/report/afghanistan/elders-role-bringing-stability-afghanistans-east-focus-new-radio-discussion',\n",
       " 'https://reliefweb.int/report/afghanistan/rsf-s-recommendations-afghan-journalists-and-demonstrations',\n",
       " 'https://reliefweb.int/report/afghanistan/government-afghanistan-signs-4823-million-new-financing']"
      ]
     },
     "execution_count": 158,
     "metadata": {},
     "output_type": "execute_result"
    }
   ],
   "source": [
    "page_to_link(33)"
   ]
  },
  {
   "cell_type": "markdown",
   "metadata": {},
   "source": [
    "## Putting it together\n",
    "\n",
    "Now we have a function that'll take a page number for the archive page and return all the links.\n",
    "We have another function that'll take in an article URL and give us the structured content from the page.\n",
    "\n",
    "Let's put them together and download a (small!) range of stories.\n",
    "\n",
    "Note: let's be nice to the UN and not all download the whole thing at once."
   ]
  },
  {
   "cell_type": "code",
   "execution_count": 163,
   "metadata": {},
   "outputs": [],
   "source": [
    "# get all the links we want to scrape\n",
    "all_links = []\n",
    "\n",
    "for num in range(1, 5):\n",
    "    lks = page_to_link(num)\n",
    "    all_links.extend(lks) # extend! not append.\n",
    "    \n",
    "len(all_links)\n",
    "\n",
    "all_links[12] = \"http://asdngasdng.com\""
   ]
  },
  {
   "cell_type": "code",
   "execution_count": 164,
   "metadata": {},
   "outputs": [
    {
     "name": "stdout",
     "output_type": "stream",
     "text": [
      "HTTPConnectionPool(host='asdngasdng.com', port=80): Max retries exceeded with url: / (Caused by NewConnectionError('<urllib3.connection.HTTPConnection object at 0x10e625080>: Failed to establish a new connection: [Errno 8] nodename nor servname provided, or not known',))\n",
      "http://asdngasdng.com\n"
     ]
    }
   ],
   "source": [
    "all_content = []\n",
    "\n",
    "for link in all_links[10:20]: # be nice to reliefweb and only get some \n",
    "    try:\n",
    "        content = page_scraper(link)\n",
    "        all_content.append(content) # back to append!\n",
    "    except Exception as e:\n",
    "        # if something goes wrong, keep trucking,\n",
    "        #  but print out the link so we can diagnose it.\n",
    "        print(e)\n",
    "        print(link)"
   ]
  },
  {
   "cell_type": "code",
   "execution_count": 165,
   "metadata": {},
   "outputs": [
    {
     "data": {
      "text/plain": [
       "9"
      ]
     },
     "execution_count": 165,
     "metadata": {},
     "output_type": "execute_result"
    }
   ],
   "source": [
    "len(all_content)"
   ]
  },
  {
   "cell_type": "code",
   "execution_count": 162,
   "metadata": {},
   "outputs": [
    {
     "data": {
      "text/plain": [
       "{'author': 'Food and Agriculture Organization of the United Nations',\n",
       " 'body': 'With conflict and climate-related shocks sending global hunger numbers marching back up after declining for decades, FAO is asking for $1.06 billion to save lives and livelihoods and address acute hunger in 26 countries.\\nWith donor support, FAO is hoping to reach 30+ million people who rely on agriculture for their livelihoods via a range of interventions that seek to rapidly restore local food production and enhance nutrition. These include, for example, providing seeds, tools and other materials for crop farming, safeguarding livestock through lifesaving veterinary care, organizing trainings in improved production, processing, and land and water management, and giving at-need families cash so they can immediately access food.\\nEscalating humanitarian needs are largely the result of the persistence, intensification and spread of violence and conflict – the impacts of which are often being amplified and aggravated by climate-related shocks. \"The reality is that while the lives of millions of people were saved thank to rapid humanitarian response in 2017, millions more remain on the very edge of starvation. Maintaining food production and rebuilding agriculture are fundamental to preventing loss of life from severe hunger and to providing a pathway towards resilience in the midst of humanitarian crises,\" said Dominique Burgeon, Director of FAO\\'s Emergency and Rehabilitation Division and Leader of FAO\\'s Strategic Programme on Resilience.\\n\"This is why FAO focuses on transforming vulnerability into resilience - so that when something bad happens families are better able to cope and feed themselves, people don\\'t have to sell off their assets or flee, and communities can rebuild more quickly after the crisis passes,\" he added.\\nKey needs\\nFAO\\'s 2018 humanitarian appeal focuses on assisting crisis-hit, vulnerable people in 26 of the world\\'s most food insecure countries.\\nThese include Yemen, the country with the largest overall number of people in acute food insecurity, where the Organization aims to reach 5.7 million people. In the Democratic Republic of the Congo, FAO plans to assist almost 2.8 million people. In South Sudan, 3.9 million people will benefit from emergency livelihoods support. In Syria, where three-quarters of rural families continue to produce their own food, FAO will provide 2.3 million people with the means to do so. And in Somalia, the Organization will assist 2.7 million people facing severe hunger.\\n(To see what other countries FAO is targeting for assistance and to learn more about the Organization\\'s planned humanitarian activities in 2018, click here.\\nA firewall against famine\\nThe latest UN report on global hunger found that after years of steady declines, the ranks of the malnourished are once again on the rise and now totals a troubling 815 million people.\\nContinued conflict in Iraq, South Sudan, the Syrian Arab Republic and Yemen and other places as well as new outbreaks of violence in the Central African Republic, the Democratic Republic of the Congo and Myanmar have played a major role in driving hunger up. In the Caribbean, hurricanes Irma and Maria left lives – and livelihoods – in tatters, while in the Horn of Africa ongoing drought has taken a heavy toll. Across all of Africa, the Fall Armyworm pest is threatening the crops of millions of farmers.\\nLast year, discouraging trends like these saw famine - widespread death resulting from severe hunger – break out in parts of one country, South Sudan, and emerge as a real risk in three others: Yemen, Somalia, and northeastern Nigeria.\\nFamine was contained in South Sudan and averted in the other three at-risk countries thanks to a massive response by the humanitarian community on multiple fronts – including large- large-scale support to agricultural and pastoral communities that played a key role in tilting the balance away from the worst-case scenario.\\nHighlights of FAO interventions undertaken as part of this joint effort:\\n\\nProvision of seeds, equipment, fertilizer, and training that enabled some six million people in Nigeria, Somali, South Sudan and Yemen to plant and harvest crops.\\n43 million animals in the same four countries – mainly cattle, goats, and camel – received veterinary care, feed and water thanks to FAO, allowing millions of pastoralist and livestock-dependent families to feed themselves and remain self-sufficient.\\nSome 2 million poor, high-vulnerable families benefitted from FAO cash transfers (adding up to $42 million in total). These payments helped people avoid selling off household seeds, animals or other assets to buy food and bought them time and breathing room to resume their own agricultural production.\\nClick here for a complete overview of FAO\\'s work in 2017 to respond to food crises and build rural resilience.',\n",
       " 'date': '2018-02-08',\n",
       " 'title': '$1.06 billion needed to fight back against hunger in 26 countries'}"
      ]
     },
     "execution_count": 162,
     "metadata": {},
     "output_type": "execute_result"
    }
   ],
   "source": [
    "all_content[4]"
   ]
  },
  {
   "cell_type": "markdown",
   "metadata": {},
   "source": [
    "## Saving as CSV\n",
    "\n",
    "If you're going to work with your text next in R, a CSV is probably the most useful form to save your text in. To save it as a csv, we will convert into a `DataFrame` using `pandas`, a package for working with data in Python. `pandas` will then let us easily write it out to a CSV."
   ]
  },
  {
   "cell_type": "code",
   "execution_count": 166,
   "metadata": {},
   "outputs": [
    {
     "data": {
      "text/html": [
       "<div>\n",
       "<style scoped>\n",
       "    .dataframe tbody tr th:only-of-type {\n",
       "        vertical-align: middle;\n",
       "    }\n",
       "\n",
       "    .dataframe tbody tr th {\n",
       "        vertical-align: top;\n",
       "    }\n",
       "\n",
       "    .dataframe thead th {\n",
       "        text-align: right;\n",
       "    }\n",
       "</style>\n",
       "<table border=\"1\" class=\"dataframe\">\n",
       "  <thead>\n",
       "    <tr style=\"text-align: right;\">\n",
       "      <th></th>\n",
       "      <th>author</th>\n",
       "      <th>body</th>\n",
       "      <th>date</th>\n",
       "      <th>title</th>\n",
       "    </tr>\n",
       "  </thead>\n",
       "  <tbody>\n",
       "    <tr>\n",
       "      <th>0</th>\n",
       "      <td>UN Assistance Mission in Afghanistan</td>\n",
       "      <td>HERAT – Participants at a UN-backed radio prog...</td>\n",
       "      <td>2018-02-10</td>\n",
       "      <td>Women empowerment discussed at UN-backed radio...</td>\n",
       "    </tr>\n",
       "    <tr>\n",
       "      <th>1</th>\n",
       "      <td>International Organization for Migration</td>\n",
       "      <td>Jakarta – IOM, the UN Migration Agency, has fa...</td>\n",
       "      <td>2018-02-09</td>\n",
       "      <td>UN Migration Agency Facilitates Release of Ref...</td>\n",
       "    </tr>\n",
       "    <tr>\n",
       "      <th>2</th>\n",
       "      <td>European Commission, Government of Afghanistan</td>\n",
       "      <td>Bruxelles\\nUNIQUE ID: 180208_8\\nToday, the fir...</td>\n",
       "      <td>2018-02-08</td>\n",
       "      <td>Joint Press Release: The European Union and Af...</td>\n",
       "    </tr>\n",
       "    <tr>\n",
       "      <th>3</th>\n",
       "      <td>Food and Agriculture Organization of the Unite...</td>\n",
       "      <td>With conflict and climate-related shocks sendi...</td>\n",
       "      <td>2018-02-08</td>\n",
       "      <td>$1.06 billion needed to fight back against hun...</td>\n",
       "    </tr>\n",
       "    <tr>\n",
       "      <th>4</th>\n",
       "      <td>European Commission's Directorate-General for ...</td>\n",
       "      <td>FACTS &amp; FIGURES\\nOver 815 000 refugees and mig...</td>\n",
       "      <td>2018-02-07</td>\n",
       "      <td>Factsheet on the former Yugoslav Republic of M...</td>\n",
       "    </tr>\n",
       "    <tr>\n",
       "      <th>5</th>\n",
       "      <td>UN Assistance Mission in Afghanistan</td>\n",
       "      <td>JALALABAD - Civilians must be protected from a...</td>\n",
       "      <td>2018-02-08</td>\n",
       "      <td>Protection of civilians is the responsibility ...</td>\n",
       "    </tr>\n",
       "    <tr>\n",
       "      <th>6</th>\n",
       "      <td>UN Office for the Coordination of Humanitarian...</td>\n",
       "      <td>Geneva, 7 February 2018\\nAs delivered\\nExcelle...</td>\n",
       "      <td>2018-02-07</td>\n",
       "      <td>Assistant-Secretary-General and Deputy Emergen...</td>\n",
       "    </tr>\n",
       "    <tr>\n",
       "      <th>7</th>\n",
       "      <td>Jesuit Refugee Service</td>\n",
       "      <td>Rome, 1 February 2018 – The Jesuit Refugee Ser...</td>\n",
       "      <td>2018-02-01</td>\n",
       "      <td>World Interfaith Harmony Week: Working togethe...</td>\n",
       "    </tr>\n",
       "    <tr>\n",
       "      <th>8</th>\n",
       "      <td>Norwegian Refugee Council</td>\n",
       "      <td>According to a new report by The Norwegian Ref...</td>\n",
       "      <td>2018-02-07</td>\n",
       "      <td>50 people displaced every hour</td>\n",
       "    </tr>\n",
       "  </tbody>\n",
       "</table>\n",
       "</div>"
      ],
      "text/plain": [
       "                                              author  \\\n",
       "0               UN Assistance Mission in Afghanistan   \n",
       "1           International Organization for Migration   \n",
       "2     European Commission, Government of Afghanistan   \n",
       "3  Food and Agriculture Organization of the Unite...   \n",
       "4  European Commission's Directorate-General for ...   \n",
       "5               UN Assistance Mission in Afghanistan   \n",
       "6  UN Office for the Coordination of Humanitarian...   \n",
       "7                             Jesuit Refugee Service   \n",
       "8                          Norwegian Refugee Council   \n",
       "\n",
       "                                                body        date  \\\n",
       "0  HERAT – Participants at a UN-backed radio prog...  2018-02-10   \n",
       "1  Jakarta – IOM, the UN Migration Agency, has fa...  2018-02-09   \n",
       "2  Bruxelles\\nUNIQUE ID: 180208_8\\nToday, the fir...  2018-02-08   \n",
       "3  With conflict and climate-related shocks sendi...  2018-02-08   \n",
       "4  FACTS & FIGURES\\nOver 815 000 refugees and mig...  2018-02-07   \n",
       "5  JALALABAD - Civilians must be protected from a...  2018-02-08   \n",
       "6  Geneva, 7 February 2018\\nAs delivered\\nExcelle...  2018-02-07   \n",
       "7  Rome, 1 February 2018 – The Jesuit Refugee Ser...  2018-02-01   \n",
       "8  According to a new report by The Norwegian Ref...  2018-02-07   \n",
       "\n",
       "                                               title  \n",
       "0  Women empowerment discussed at UN-backed radio...  \n",
       "1  UN Migration Agency Facilitates Release of Ref...  \n",
       "2  Joint Press Release: The European Union and Af...  \n",
       "3  $1.06 billion needed to fight back against hun...  \n",
       "4  Factsheet on the former Yugoslav Republic of M...  \n",
       "5  Protection of civilians is the responsibility ...  \n",
       "6  Assistant-Secretary-General and Deputy Emergen...  \n",
       "7  World Interfaith Harmony Week: Working togethe...  \n",
       "8                     50 people displaced every hour  "
      ]
     },
     "execution_count": 166,
     "metadata": {},
     "output_type": "execute_result"
    }
   ],
   "source": [
    "from __future__ import unicode_literals\n",
    "import pandas as pd\n",
    "\n",
    "content_df = pd.DataFrame(all_content)\n",
    "content_df"
   ]
  },
  {
   "cell_type": "code",
   "execution_count": 174,
   "metadata": {
    "collapsed": true
   },
   "outputs": [],
   "source": [
    "content_df.to_csv(\"all_content.csv\", encoding = 'utf-8')"
   ]
  },
  {
   "cell_type": "markdown",
   "metadata": {
    "collapsed": true
   },
   "source": [
    "## Saving as JSON\n",
    "\n",
    "We can also store is as a JSON file. JSON and dictionaries are almost equivalent, so it's a natural form to save a dict as a JSON file."
   ]
  },
  {
   "cell_type": "code",
   "execution_count": 168,
   "metadata": {
    "collapsed": true
   },
   "outputs": [],
   "source": [
    "import json"
   ]
  },
  {
   "cell_type": "code",
   "execution_count": 169,
   "metadata": {
    "collapsed": true
   },
   "outputs": [],
   "source": [
    "FILENAME = \"reliefweb.json\"\n",
    "\n",
    "with open(FILENAME, \"w\") as f:\n",
    "    json.dump(all_content, f)"
   ]
  },
  {
   "cell_type": "markdown",
   "metadata": {},
   "source": [
    "### Read it back in\n",
    "\n",
    "If you want to load it back in later to analyze, you can do this:"
   ]
  },
  {
   "cell_type": "code",
   "execution_count": 170,
   "metadata": {
    "collapsed": true
   },
   "outputs": [],
   "source": [
    "FILENAME = \"reliefweb.json\"\n",
    "\n",
    "with open(FILENAME, \"r\") as f:\n",
    "    loaded_content = json.load(f)"
   ]
  },
  {
   "cell_type": "code",
   "execution_count": 172,
   "metadata": {
    "collapsed": true
   },
   "outputs": [],
   "source": [
    "# is it the same?\n",
    "assert loaded_content[4] == all_content[4]"
   ]
  },
  {
   "cell_type": "code",
   "execution_count": null,
   "metadata": {},
   "outputs": [],
   "source": []
  },
  {
   "cell_type": "code",
   "execution_count": null,
   "metadata": {
    "collapsed": true
   },
   "outputs": [],
   "source": []
  }
 ],
 "metadata": {
  "kernelspec": {
   "display_name": "Python 3",
   "language": "python",
   "name": "python3"
  },
  "language_info": {
   "codemirror_mode": {
    "name": "ipython",
    "version": 3
   },
   "file_extension": ".py",
   "mimetype": "text/x-python",
   "name": "python",
   "nbconvert_exporter": "python",
   "pygments_lexer": "ipython3",
   "version": "3.6.3"
  }
 },
 "nbformat": 4,
 "nbformat_minor": 2
}
